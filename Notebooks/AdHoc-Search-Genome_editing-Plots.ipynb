{
 "cells": [
  {
   "cell_type": "code",
   "execution_count": 1,
   "id": "b2e75a26",
   "metadata": {},
   "outputs": [],
   "source": [
    "P_10_genome_editing_Standard = [0.1,0,0,0,0.1,0,0.1,0,0,0.2,0,0,0,0.1]\n",
    "Strategie = [\"Normal\",\"Referenzen\",\"ReferenzenStemStop\",\"Titel\",\"TitelStemStop\",\"Zitate\",\"ZitateStemStop\",\"Normal\",\"Referenzen\",\"ReferenzenStemStop\",\"Titel\",\"TitelStemStop\",\"Zitate\",\"ZitateStemStop\"]\n",
    "Repräsentation=[\"Standard\",\"Standard\",\"Standard\",\"Standard\",\"Standard\",\"Standard\",\"Standard\",\"Volltext\",\"Volltext\",\"Volltext\",\"Volltext\",\"Volltext\",\"Volltext\",\"Volltext\"]"
   ]
  },
  {
   "cell_type": "code",
   "execution_count": 5,
   "id": "4c7b2fc5",
   "metadata": {},
   "outputs": [
    {
     "name": "stdout",
     "output_type": "stream",
     "text": [
      "    P_10           Strategie      Feld\n",
      "0    0.1              Normal  Standard\n",
      "1    0.0          Referenzen  Standard\n",
      "2    0.0  ReferenzenStemStop  Standard\n",
      "3    0.0               Titel  Standard\n",
      "4    0.1       TitelStemStop  Standard\n",
      "5    0.0              Zitate  Standard\n",
      "6    0.1      ZitateStemStop  Standard\n",
      "7    0.0              Normal  Volltext\n",
      "8    0.0          Referenzen  Volltext\n",
      "9    0.2  ReferenzenStemStop  Volltext\n",
      "10   0.0               Titel  Volltext\n",
      "11   0.0       TitelStemStop  Volltext\n",
      "12   0.0              Zitate  Volltext\n",
      "13   0.1      ZitateStemStop  Volltext\n"
     ]
    }
   ],
   "source": [
    "import pandas as pd\n",
    "df = pd.DataFrame( {'P_10': P_10_genome_editing_Standard,'Strategie': Strategie,'Feld' : Repräsentation},columns=['P_10', 'Strategie','Feld'])\n",
    "print(df)"
   ]
  },
  {
   "cell_type": "code",
   "execution_count": null,
   "id": "0bd225ba",
   "metadata": {},
   "outputs": [],
   "source": []
  }
 ],
 "metadata": {
  "kernelspec": {
   "display_name": "Python 3",
   "language": "python",
   "name": "python3"
  },
  "language_info": {
   "codemirror_mode": {
    "name": "ipython",
    "version": 3
   },
   "file_extension": ".py",
   "mimetype": "text/x-python",
   "name": "python",
   "nbconvert_exporter": "python",
   "pygments_lexer": "ipython3",
   "version": "3.8.10"
  }
 },
 "nbformat": 4,
 "nbformat_minor": 5
}
